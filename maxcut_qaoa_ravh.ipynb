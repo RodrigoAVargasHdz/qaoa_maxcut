{
  "nbformat": 4,
  "nbformat_minor": 0,
  "metadata": {
    "colab": {
      "name": "maxcut_qaoa_ravh.ipynb",
      "provenance": [],
      "collapsed_sections": [],
      "authorship_tag": "ABX9TyM0RLswYFfojgFYm4Jtpqp+",
      "include_colab_link": true
    },
    "kernelspec": {
      "name": "python3",
      "display_name": "Python 3"
    }
  },
  "cells": [
    {
      "cell_type": "markdown",
      "metadata": {
        "id": "view-in-github",
        "colab_type": "text"
      },
      "source": [
        "<a href=\"https://colab.research.google.com/github/RodrigoAVargasHdz/qaoa_maxcut/blob/main/maxcut_qaoa_ravh.ipynb\" target=\"_parent\"><img src=\"https://colab.research.google.com/assets/colab-badge.svg\" alt=\"Open In Colab\"/></a>"
      ]
    },
    {
      "cell_type": "markdown",
      "metadata": {
        "id": "okbhU0Z2Ria1"
      },
      "source": [
        "QAOA for the MAX-CUT problem in Qiskt"
      ]
    },
    {
      "cell_type": "code",
      "metadata": {
        "id": "VF2Dg3OtBzdS"
      },
      "source": [
        "pip install qiskit"
      ],
      "execution_count": null,
      "outputs": []
    },
    {
      "cell_type": "markdown",
      "metadata": {
        "id": "SKSdb2m2CGUy"
      },
      "source": [
        "Load the following libraries. "
      ]
    },
    {
      "cell_type": "code",
      "metadata": {
        "id": "KFXPNOEcRspc"
      },
      "source": [
        "import numpy as np\n",
        "import networkx as nx  # tool to handle general Graphs \n",
        "import matplotlib.pyplot as plt \n",
        "from matplotlib import cm\n",
        "from matplotlib.ticker import LinearLocator, FormatStrFormatter\n",
        "\n",
        "from qiskit import Aer, IBMQ\n",
        "from qiskit import QuantumRegister, ClassicalRegister, QuantumCircuit, transpile, assemble\n",
        "from qiskit.providers.ibmq import least_busy\n",
        "from qiskit.tools.monitor import job_monitor\n",
        "from qiskit.visualization import plot_histogram\n"
      ],
      "execution_count": 2,
      "outputs": []
    },
    {
      "cell_type": "markdown",
      "metadata": {
        "id": "NJ-lhVLjCQsD"
      },
      "source": [
        "Funciton that creates random graphs: *random_graph* \\\\\n",
        "    **n_nodes** --> nunumber of nodes \\\\\n",
        "    **n_edges** --> number of edges \\\\\n",
        "    **bool_weghts** --> \n",
        "    True = random weights and False = unit weights"
      ]
    },
    {
      "cell_type": "code",
      "metadata": {
        "id": "emBtpn5mClYz"
      },
      "source": [
        "def clean_edges(n_nodes, n_edges):\n",
        "    edges = np.random.randint(0,n_nodes,size=(n_edges,2)) \n",
        "#     delete duplicated edges\n",
        "    unique_edges = np.unique(edges, axis=0)\n",
        "#     delete edges that connect same to node\n",
        "    diff = np.diff(unique_edges,axis=1) \n",
        "    i = np.where(np.abs(diff) > 0)[0]\n",
        "#     final list of edfes\n",
        "    edges = unique_edges[i,:]    \n",
        "    return edges\n",
        "\n",
        "def random_graph(n_nodes, n_edges,bool_weights = True):\n",
        "    V = np.arange(0,n_nodes,1) # verticies\n",
        "    edges = clean_edges(n_nodes, n_edges)# edges\n",
        "    \n",
        "    if bool_weights:\n",
        "        w = np.random.random(edges.shape[0]) # randomg weigths \n",
        "    else:\n",
        "        w = np.ones(edges.shape[0]) # uniform weigths \n",
        "        \n",
        "    G_array = np.column_stack((edges,w)) # edges and weights\n",
        "    E = tuple(tuple(g.tolist()) for g in G_array )    \n",
        "    return E,V"
      ],
      "execution_count": 9,
      "outputs": []
    },
    {
      "cell_type": "markdown",
      "metadata": {
        "id": "jvAvuUlaEjZn"
      },
      "source": [
        "Create a random graph"
      ]
    },
    {
      "cell_type": "code",
      "metadata": {
        "colab": {
          "base_uri": "https://localhost:8080/"
        },
        "id": "tp9AnJoqErEd",
        "outputId": "53e39e21-437f-4f5a-b705-00a224d67262"
      },
      "source": [
        "# numbre of nodes\n",
        "n = 5 \n",
        "# create a random graph\n",
        "E,V = random_graph(n, 2*n,False)\n",
        "print('Graph')\n",
        "for e in E:\n",
        "  print(e)\n",
        "print(V)"
      ],
      "execution_count": 12,
      "outputs": [
        {
          "output_type": "stream",
          "text": [
            "Graph\n",
            "(0.0, 2.0, 1.0)\n",
            "(0.0, 3.0, 1.0)\n",
            "(1.0, 0.0, 1.0)\n",
            "(1.0, 2.0, 1.0)\n",
            "(2.0, 1.0, 1.0)\n",
            "(3.0, 0.0, 1.0)\n",
            "(3.0, 2.0, 1.0)\n",
            "(3.0, 4.0, 1.0)\n",
            "[0 1 2 3 4]\n"
          ],
          "name": "stdout"
        }
      ]
    },
    {
      "cell_type": "markdown",
      "metadata": {
        "id": "sNKJd_zPFV7V"
      },
      "source": [
        "Let's plot the above graph"
      ]
    },
    {
      "cell_type": "code",
      "metadata": {
        "colab": {
          "base_uri": "https://localhost:8080/",
          "height": 248
        },
        "id": "m_tPwWbBFVTb",
        "outputId": "b630d6b9-d2d9-4811-d5aa-4a06b52bae40"
      },
      "source": [
        "  G = nx.Graph()\n",
        "  G.add_nodes_from(V)\n",
        "  G.add_weighted_edges_from(E)\n",
        "\n",
        "  colors = ['r' for node in G.nodes()]\n",
        "  default_axes = plt.axes(frameon=True)\n",
        "  pos = nx.spring_layout(G)\n",
        "\n",
        "    # plt.figure()\n",
        "  nx.draw_networkx(G, node_color=colors, node_size=600, alpha=1, ax=default_axes, pos=pos)"
      ],
      "execution_count": 15,
      "outputs": [
        {
          "output_type": "display_data",
          "data": {
            "image/png": "[encoded data removed]",
            "text/plain": [
              "<Figure size 432x288 with 1 Axes>"
            ]
          },
          "metadata": {
            "tags": []
          }
        }
      ]
    },
    {
      "cell_type": "markdown",
      "metadata": {
        "id": "7zNtyrcWGeBO"
      },
      "source": [
        "The **goal** of this tutorial is to use the Quantum Approximate Optimization Algorithm (**QAOA**) algorithm to solve the **MaxCut** for a graph. \n",
        "\n",
        "## Coast function\n",
        "As any other optimiztion algorithm, QAOA aims to maximze a cost function, \n",
        "\\begin{eqnarray}\n",
        "\\mathbf{x}^* = \\arg\\max_{\\mathbf{x}} \\;\\; C(\\mathbf{x}).\n",
        "\\end{eqnarray}\n",
        "\n",
        "For the MaxCut problem, $C(\\cdot)$ quantifies when two nodes should belong to the same category or not. For the latter, if the edge between a pair of nodes disgree then a penalization should be included. \n",
        "A possible expression of such cost function is,\n",
        "\\begin{eqnarray}\n",
        "C(\\mathbf{x}) = \\sum_{\\langle i,j\\rangle} C_{\\langle i,j\\rangle}  = \\sum_{\\langle i,j\\rangle} \\frac{1}{2}\\big( 1 - g(i)g(j) \\big),\n",
        "\\end{eqnarray}\n",
        "where $g(\\cdot)$ is a function that inquires if node $i$ belongs or not to a category. The sum in $C(\\cdot)$ is over all edges.\n",
        "\n",
        "We can translate the following problem into quantum computing by taking the advantage to represent each edge as a qubit, $| z \\rangle =| 0 \\rangle $ or $| z \\rangle =| 1 \\rangle $.\n",
        "The quantum analog of $C$ in the compuatational basis $| z \\rangle$ is,\n",
        "\\begin{eqnarray}\n",
        "C| z \\rangle &=& \\sum_{\\langle i,j\\rangle}  C_{\\langle i,j\\rangle}(z)| z \\rangle = C(z)| z \\rangle\\\\\n",
        "C_{\\langle i,j\\rangle}(z) &=& \\frac{1}{2}(I - g_i \\otimes g_j)| z \\rangle,\n",
        "\\end{eqnarray}\n",
        "where $g_i \\otimes g_j| z \\rangle = g_i | z_i\\rangle \\otimes g_j| z_j \\rangle$. \n",
        "If $| z_i\\rangle = | z_j\\rangle $ then $g_i \\otimes g_j = - I$. Else, $| z_i\\rangle \\neq | z_j\\rangle $ then $g_i \\otimes g_j = I$. These conditions assure that $C$ will be maximized. \n",
        "A common chose to represent $g_i \\otimes g_j$ is by using the Puali Z operatros, $\\sigma^Z |0\\rangle  = 1$ and $\\sigma^Z |1\\rangle  = -1$.\n",
        "By taking all this into account we can rewrite $C_{\\langle i,j\\rangle}$ as,\n",
        "\\begin{eqnarray}\n",
        "C_{\\langle i,j\\rangle}(z) &=& \\frac{1}{2}(I - \\sigma^{Z}_i \\otimes \\sigma^{Z}_j| z \\rangle.\n",
        "\\end{eqnarray}\n"
      ]
    },
    {
      "cell_type": "code",
      "metadata": {
        "id": "AL-peldQW573"
      },
      "source": [
        "def cost_function_C(x,G):\n",
        "    E = G.edges()\n",
        "    if( len(x) != len(G.nodes())):\n",
        "        return np.nan\n",
        "    C = 0;\n",
        "    for index in E:\n",
        "        e1 = int(index[0])\n",
        "        e2 = int(index[1])\n",
        "        w = G[e1][e2]['weight']\n",
        "        C = C + w*x[e1]*(1-x[e2]) + w*x[e2]*(1-x[e1])      \n",
        "    return C"
      ],
      "execution_count": 17,
      "outputs": []
    },
    {
      "cell_type": "markdown",
      "metadata": {
        "id": "0Fda5aegXZp5"
      },
      "source": [
        "## Introduction to QAOA\n",
        "\n",
        "\n",
        "The matrix representation of $C$ is diagonal in the compuational basis $z_\\rangle$, meaning $C| z\\rangle = f(z)| z\\rangle$. One of the diagonal elements, $| z'\\rangle$, is the largest element of $C$, and we wish to find it. \n",
        "\n",
        "To solve for $| z'\\rangle$, we constrcut an ansazt state $| \\phi \\rangle$, defined as, \n",
        "\\begin{eqnarray}\n",
        "| \\phi \\rangle = \\sum_z a_z | z\\rangle,\n",
        "\\end{eqnarray}\n",
        "where $a_z$ are complex weiths that ensures $| \\phi \\rangle$ is properly normlized; $\\langle \\phi | \\phi \\rangle = \\sum_z |a_z|^2 = 1$.\n",
        "\n",
        "Under this asumption, $| \\phi \\rangle$ and $| z \\rangle$ produce the largest expectation value of $C$,\n",
        "\\begin{eqnarray}\n",
        "\\langle z' | C | z' \\rangle \\approx \\langle \\phi | C | \\phi \\rangle = \\sum_z f(z) |a_z|^2.\n",
        "\\end{eqnarray}\n",
        "From the above equation we can observe that to maximize $C$ we must optimizer the coefficients $a_z$. \n",
        "\n",
        "## Unitary operations in the QAOA protocol\n",
        "To construct the state $|\\phi \\rangle$, we utilze two types of rotation unitary uperators, $U(C,\\gamma) = e^{-i\\gamma C}$ and $U(B,\\beta)= e^{-i\\beta B}$.\n",
        "The first step in the QAOA protocol is to linearly construct a state that is in a uniform superposition to all $|z\\rangle$. The most common way to achieve this is by using the Hamadard operation,\n",
        "\\begin{eqnarray}\n",
        "| \\phi_0 \\rangle = H^{\\otimes n}| 0 \\rangle^{\\otimes n} \n",
        "\\end{eqnarray}\n",
        "where for a two qubit system the above expression is,\n",
        "\\begin{eqnarray}\n",
        "| \\phi_0 \\rangle &=& (H_1\\otimes I )| 0 \\rangle_1\\otimes| 0 \\rangle_2 + (I\\otimes H_1 )| 0 \\rangle_1\\otimes| 0 \\rangle_2\\\\\n",
        " &=& \\frac{1}{\\sqrt{2}}\\big( | 0 \\rangle_1 + | 1 \\rangle_1 \\big)\\otimes| 0 \\rangle_2 + \\frac{1}{\\sqrt{2}} | 0 \\rangle_1 \\otimes\\big( | 0 \\rangle_2 + | 1 \\rangle_2 \\big).\n",
        "\\end{eqnarray}\n",
        "The construction protocol for state $| \\phi_0 \\rangle$, is a standard procedure in quantum comuting. \n",
        "\n",
        "The next step in the QAOA protocol is to rotate $| \\phi_0 \\rangle$ using $U(C,\\gamma)$ and $U(B,\\beta)$, producing the satate $| \\psi_{p}(\\gamma,\\beta) \\rangle$.\n",
        "\\begin{eqnarray}\n",
        "| \\psi_{p=1}(\\gamma,\\beta) \\rangle =  U(\\beta,B)U(\\gamma,C)| \\phi_0 \\rangle = e^{-i\\beta B}\\; e^{-i\\gamma C} |\\phi_0 \\rangle.\n",
        "\\end{eqnarray}\n",
        "In the QAOA algorithm we can aplly rotate the quantum state $P$-times using the same $U(C,\\gamma)$ and $U(B,\\beta)$ matrices with different values of $\\gamma$ and $\\beta$, leading to \n",
        "\\begin{eqnarray}\n",
        "| \\psi_{P}(\\boldsymbol{\\gamma},\\boldsymbol{\\beta}) \\rangle =  U(\\beta_P,B)U(\\gamma_P,C)\\cdots U(\\beta_1,B)U(\\gamma_1,C)| \\phi_0 \\rangle,\n",
        "\\end{eqnarray}\n",
        "where the $\\boldsymbol{\\gamma}$ and $\\boldsymbol{\\beta}$, in the lingo of machine-learning, are the hyper-parameters of the quantum circuit. \n",
        " $\\boldsymbol{\\gamma}$ ($\\boldsymbol{\\beta}$) is the collection of all different $\\gamma$s ($\\beta$s); $\\boldsymbol{\\gamma}= [\\gamma_1, \\cdots,\\gamma_P]$ and $\\boldsymbol{\\beta}= [\\beta_1, \\cdots,\\beta_P]$.\n",
        "\n",
        "For a sinlge rotation we can define a function like,\n"
      ]
    },
    {
      "cell_type": "code",
      "metadata": {
        "id": "yJCqSULpdg7X"
      },
      "source": [
        "def cycle_p(q_circuit, E, V, gamma,beta):\n",
        "for edge in E:\n",
        "  k = int(edge[0])\n",
        "  l = int(edge[1])\n",
        "  q_circuit.cp(-2*gamma, k, l)\n",
        "  q_circuit.p(gamma, k)\n",
        "  q_circuit.p(gamma, l)\n",
        "\n",
        "  q_circuit.barrier()\n",
        "  q_circuit.rx(2*beta, range(len(V)))\n",
        "  return q_circuit "
      ],
      "execution_count": null,
      "outputs": []
    },
    {
      "cell_type": "markdown",
      "metadata": {
        "id": "YDpqSgTPd1Yr"
      },
      "source": [
        "## $U(C,\\gamma)$ and $U(B,\\beta)$\n",
        "\n",
        "Here we breifly explain both rotation matrices. \n",
        "\\begin{eqnarray}\n",
        "U(B,\\beta) = e^{-i\\beta B},\n",
        "\\end{eqnarray}\n",
        "where $B$ is defined as,\n",
        "\\begin{eqnarray}\n",
        "B = \\sum_i \\sigma^{X}_i.\n",
        "\\end{eqnarray}\n",
        "$\\sigma^{X}_i$ is the Pauli X matrix apply to the $i$-qubit.\n",
        "\\begin{eqnarray}\n",
        "U(B,\\beta) = e^{-i\\beta B} = e^{-i\\beta\\sum_i \\sigma^{X}_i} = \\prod_i e^{-i\\beta \\sigma^{X}_i} =  \\prod_i U(B_i,\\beta).\n",
        "\\end{eqnarray}\n",
        "$U(B_i,\\beta)$ could be understood as a rotation operation $R_{X}$ with an angle $2 \\beta$. (This is why we did, **q_circuit.rx(2*beta, range(len(V)))**).\n",
        "\n",
        "\n",
        "For $U(C,\\gamma)$ things are a little more complicated since, $C$ must be evaluated at each different $| z \\rangle$.\n",
        "\\begin{eqnarray}\n",
        "U(C,\\gamma) = e^{-i\\gamma C} = e^{i\\gamma\\sum_{\\langle ij \\rangle} C_{\\langle ij \\rangle}} = \\prod_{\\langle ij \\rangle}e^{i\\gamma C_{\\langle ij \\rangle}} =\\prod_{\\langle ij \\rangle}  U(C_{\\langle ij \\rangle},\\gamma),\n",
        "\\end{eqnarray}\n",
        "where \n",
        "\\begin{eqnarray}\n",
        "U(C_{\\langle ij \\rangle},\\gamma) = e^{-i \\gamma \\frac{1}{2} \\big (I - \\sigma^Z_{i} \\otimes \\sigma^Z_{j} \\big)} = e^{-i \\gamma \\frac{1}{2} I} e^{i \\gamma \\frac{1}{2} \\big (\\sigma^Z_{i} \\otimes \\sigma^Z_{j} \\big)}\n",
        "\\end{eqnarray}\n",
        "The first term, $e^{-i \\gamma \\frac{1}{2} I}$, is a phase factor that could be program by a Rotation in the Z axis, $R_Z(\\gamma/2)$ (code: **q_circuit.cp(-2*gamma, k, l)**).\n",
        "The last term, we evaluate the terms $\\sigma^Z_{i} \\otimes \\sigma^Z_{j}$ (code:  **q_circuit.p(gamma, k)** and **q_circuit.p(gamma, l)**)."
      ]
    },
    {
      "cell_type": "code",
      "metadata": {
        "id": "RaG7pmaSe8-Y"
      },
      "source": [
        ""
      ],
      "execution_count": null,
      "outputs": []
    }
  ]
}