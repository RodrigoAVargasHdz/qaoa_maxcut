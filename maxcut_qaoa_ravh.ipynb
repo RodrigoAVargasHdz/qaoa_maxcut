{
  "nbformat": 4,
  "nbformat_minor": 0,
  "metadata": {
    "colab": {
      "name": "maxcut_qaoa_ravh.ipynb",
      "provenance": [],
      "collapsed_sections": [],
      "authorship_tag": "ABX9TyPYRpSEtoYoT0s08x7rhXrb",
      "include_colab_link": true
    },
    "kernelspec": {
      "name": "python3",
      "display_name": "Python 3"
    }
  },
  "cells": [
    {
      "cell_type": "markdown",
      "metadata": {
        "id": "view-in-github",
        "colab_type": "text"
      },
      "source": [
        "<a href=\"https://colab.research.google.com/github/RodrigoAVargasHdz/qaoa_maxcut/blob/main/maxcut_qaoa_ravh.ipynb\" target=\"_parent\"><img src=\"https://colab.research.google.com/assets/colab-badge.svg\" alt=\"Open In Colab\"/></a>"
      ]
    },
    {
      "cell_type": "markdown",
      "metadata": {
        "id": "okbhU0Z2Ria1"
      },
      "source": [
        "QAOA for the MAX-CUT problem in Qiskt"
      ]
    },
    {
      "cell_type": "code",
      "metadata": {
        "colab": {
          "base_uri": "https://localhost:8080/"
        },
        "id": "VF2Dg3OtBzdS",
        "outputId": "ddd3670b-a93e-40e8-a92f-b159904fefb8"
      },
      "source": [
        "!pip install qiskit --upgrade\n",
        "%pip install pylatexenc\n"
      ],
      "execution_count": 3,
      "outputs": [
        {
          "output_type": "stream",
          "text": [
            "Collecting qiskit\n",
            "  Downloading https://files.pythonhosted.org/packages/c8/88/e08fa24e890f57b83b219c94b633e4803aaa29984e7756e8bd030431ca8d/qiskit-0.24.0.tar.gz\n",
            "Collecting qiskit-terra==0.16.4\n",
            "\u001b[?25l  Downloading https://files.pythonhosted.org/packages/89/64/d70a10bce894ec81a227aabc47305449b48bcffd7dde76d30e7cea6c9786/qiskit_terra-0.16.4-cp37-cp37m-manylinux2010_x86_64.whl (8.5MB)\n",
            "\u001b[K     |████████████████████████████████| 8.5MB 7.3MB/s \n",
            "\u001b[?25hCollecting qiskit-aer==0.7.6\n",
            "\u001b[?25l  Downloading https://files.pythonhosted.org/packages/03/98/735a869724392a8fa084a65d601a8c8940aacdc4c245aba9a65d9a2669ec/qiskit_aer-0.7.6-cp37-cp37m-manylinux2010_x86_64.whl (17.6MB)\n",
            "\u001b[K     |████████████████████████████████| 17.6MB 241kB/s \n",
            "\u001b[?25hCollecting qiskit-ibmq-provider==0.12.1\n",
            "\u001b[?25l  Downloading https://files.pythonhosted.org/packages/50/ed/937ea2141ec982e3850247f14786e28a0cb6c9bae52c3aba4a11da39a595/qiskit_ibmq_provider-0.12.1-py3-none-any.whl (198kB)\n",
            "\u001b[K     |████████████████████████████████| 204kB 48.3MB/s \n",
            "\u001b[?25hCollecting qiskit-ignis==0.5.2\n",
            "\u001b[?25l  Downloading https://files.pythonhosted.org/packages/b2/1d/d5df8cf48cf20a26deb6e0535f020cd2ad625cb27457abb0ab39c2104e38/qiskit_ignis-0.5.2-py3-none-any.whl (203kB)\n",
            "\u001b[K     |████████████████████████████████| 204kB 41.8MB/s \n",
            "\u001b[?25hCollecting qiskit-aqua==0.8.2\n",
            "\u001b[?25l  Downloading https://files.pythonhosted.org/packages/0e/82/528741676960a7fd1c75151639601826118f2729ad53034fa3b39290c056/qiskit_aqua-0.8.2-py3-none-any.whl (2.1MB)\n",
            "\u001b[K     |████████████████████████████████| 2.1MB 28.6MB/s \n",
            "\u001b[?25hCollecting python-constraint>=1.4\n",
            "  Downloading https://files.pythonhosted.org/packages/37/8b/5f1bc2734ca611943e1d6733ee244238679f6410a10cd45ede55a61a8402/python-constraint-1.4.0.tar.bz2\n",
            "Requirement already satisfied, skipping upgrade: psutil>=5 in /usr/local/lib/python3.7/dist-packages (from qiskit-terra==0.16.4->qiskit) (5.4.8)\n",
            "Requirement already satisfied, skipping upgrade: python-dateutil>=2.8.0 in /usr/local/lib/python3.7/dist-packages (from qiskit-terra==0.16.4->qiskit) (2.8.1)\n",
            "Collecting ply>=3.10\n",
            "\u001b[?25l  Downloading https://files.pythonhosted.org/packages/a3/58/35da89ee790598a0700ea49b2a66594140f44dec458c07e8e3d4979137fc/ply-3.11-py2.py3-none-any.whl (49kB)\n",
            "\u001b[K     |████████████████████████████████| 51kB 5.6MB/s \n",
            "\u001b[?25hRequirement already satisfied, skipping upgrade: sympy>=1.3 in /usr/local/lib/python3.7/dist-packages (from qiskit-terra==0.16.4->qiskit) (1.7.1)\n",
            "Requirement already satisfied, skipping upgrade: jsonschema>=2.6 in /usr/local/lib/python3.7/dist-packages (from qiskit-terra==0.16.4->qiskit) (2.6.0)\n",
            "Requirement already satisfied, skipping upgrade: numpy>=1.17 in /usr/local/lib/python3.7/dist-packages (from qiskit-terra==0.16.4->qiskit) (1.19.5)\n",
            "Collecting retworkx>=0.5.0\n",
            "\u001b[?25l  Downloading https://files.pythonhosted.org/packages/1b/92/f007f8b9d88dcd5b90e363967e5d54431a68c5fe06d83400732e3b438084/retworkx-0.8.0-cp37-cp37m-manylinux2010_x86_64.whl (1.0MB)\n",
            "\u001b[K     |████████████████████████████████| 1.0MB 32.6MB/s \n",
            "\u001b[?25hRequirement already satisfied, skipping upgrade: networkx>=2.2 in /usr/local/lib/python3.7/dist-packages (from qiskit-terra==0.16.4->qiskit) (2.5)\n",
            "Collecting fastjsonschema>=2.10\n",
            "  Downloading https://files.pythonhosted.org/packages/89/1c/8be51fa42aadc1c1611a52b866e1a5a1032a504f24789cf140b4e6d7c940/fastjsonschema-2.15.0-py3-none-any.whl\n",
            "Requirement already satisfied, skipping upgrade: dill>=0.3 in /usr/local/lib/python3.7/dist-packages (from qiskit-terra==0.16.4->qiskit) (0.3.3)\n",
            "Requirement already satisfied, skipping upgrade: scipy>=1.4 in /usr/local/lib/python3.7/dist-packages (from qiskit-terra==0.16.4->qiskit) (1.4.1)\n",
            "Requirement already satisfied, skipping upgrade: cython>=0.27.1 in /usr/local/lib/python3.7/dist-packages (from qiskit-aer==0.7.6->qiskit) (0.29.22)\n",
            "Collecting pybind11>=2.4\n",
            "\u001b[?25l  Downloading https://files.pythonhosted.org/packages/8d/43/7339dbabbc2793718d59703aace4166f53c29ee1c202f6ff5bf8a26c4d91/pybind11-2.6.2-py2.py3-none-any.whl (191kB)\n",
            "\u001b[K     |████████████████████████████████| 194kB 37.9MB/s \n",
            "\u001b[?25hCollecting websockets>=8\n",
            "\u001b[?25l  Downloading https://files.pythonhosted.org/packages/5a/0b/3ebc752392a368af14dd24ee041683416ac6d2463eead94b311b11e41c82/websockets-8.1-cp37-cp37m-manylinux2010_x86_64.whl (79kB)\n",
            "\u001b[K     |████████████████████████████████| 81kB 7.6MB/s \n",
            "\u001b[?25hRequirement already satisfied, skipping upgrade: urllib3>=1.21.1 in /usr/local/lib/python3.7/dist-packages (from qiskit-ibmq-provider==0.12.1->qiskit) (1.24.3)\n",
            "Requirement already satisfied, skipping upgrade: requests>=2.19 in /usr/local/lib/python3.7/dist-packages (from qiskit-ibmq-provider==0.12.1->qiskit) (2.23.0)\n",
            "Collecting requests-ntlm>=1.1.0\n",
            "  Downloading https://files.pythonhosted.org/packages/03/4b/8b9a1afde8072c4d5710d9fa91433d504325821b038e00237dc8d6d833dc/requests_ntlm-1.1.0-py2.py3-none-any.whl\n",
            "Requirement already satisfied, skipping upgrade: nest-asyncio!=1.1.0,>=1.0.0 in /usr/local/lib/python3.7/dist-packages (from qiskit-ibmq-provider==0.12.1->qiskit) (1.5.1)\n",
            "Requirement already satisfied, skipping upgrade: scikit-learn>=0.17 in /usr/local/lib/python3.7/dist-packages (from qiskit-ignis==0.5.2->qiskit) (0.22.2.post1)\n",
            "Requirement already satisfied, skipping upgrade: setuptools>=40.1.0 in /usr/local/lib/python3.7/dist-packages (from qiskit-ignis==0.5.2->qiskit) (54.0.0)\n",
            "Requirement already satisfied, skipping upgrade: h5py in /usr/local/lib/python3.7/dist-packages (from qiskit-aqua==0.8.2->qiskit) (2.10.0)\n",
            "Collecting yfinance\n",
            "  Downloading https://files.pythonhosted.org/packages/7a/e8/b9d7104d3a4bf39924799067592d9e59119fcfc900a425a12e80a3123ec8/yfinance-0.1.55.tar.gz\n",
            "Collecting quandl\n",
            "  Downloading https://files.pythonhosted.org/packages/8b/2b/feefb36015beaecc5c0f9f2533e815b409621d9fa7b50b2aac621796f828/Quandl-3.6.1-py2.py3-none-any.whl\n",
            "Collecting dlx\n",
            "  Downloading https://files.pythonhosted.org/packages/54/c0/b8fb5bb727e983b6f5251433ef941b48f38c65bb0bd6ec509e9185bcd406/dlx-1.0.4.tar.gz\n",
            "Requirement already satisfied, skipping upgrade: fastdtw in /usr/local/lib/python3.7/dist-packages (from qiskit-aqua==0.8.2->qiskit) (0.3.4)\n",
            "Collecting docplex==2.15.194\n",
            "\u001b[?25l  Downloading https://files.pythonhosted.org/packages/9b/76/ebf5b75a25c4357c9a4758cae7fea778dd7f282b83c2f22e150dc7e3c852/docplex-2.15.194.tar.gz (582kB)\n",
            "\u001b[K     |████████████████████████████████| 583kB 28.5MB/s \n",
            "\u001b[?25hRequirement already satisfied, skipping upgrade: pandas in /usr/local/lib/python3.7/dist-packages (from qiskit-aqua==0.8.2->qiskit) (1.1.5)\n",
            "Requirement already satisfied, skipping upgrade: six>=1.5 in /usr/local/lib/python3.7/dist-packages (from python-dateutil>=2.8.0->qiskit-terra==0.16.4->qiskit) (1.15.0)\n",
            "Requirement already satisfied, skipping upgrade: mpmath>=0.19 in /usr/local/lib/python3.7/dist-packages (from sympy>=1.3->qiskit-terra==0.16.4->qiskit) (1.2.1)\n",
            "Requirement already satisfied, skipping upgrade: decorator>=4.3.0 in /usr/local/lib/python3.7/dist-packages (from networkx>=2.2->qiskit-terra==0.16.4->qiskit) (4.4.2)\n",
            "Requirement already satisfied, skipping upgrade: chardet<4,>=3.0.2 in /usr/local/lib/python3.7/dist-packages (from requests>=2.19->qiskit-ibmq-provider==0.12.1->qiskit) (3.0.4)\n",
            "Requirement already satisfied, skipping upgrade: idna<3,>=2.5 in /usr/local/lib/python3.7/dist-packages (from requests>=2.19->qiskit-ibmq-provider==0.12.1->qiskit) (2.10)\n",
            "Requirement already satisfied, skipping upgrade: certifi>=2017.4.17 in /usr/local/lib/python3.7/dist-packages (from requests>=2.19->qiskit-ibmq-provider==0.12.1->qiskit) (2020.12.5)\n",
            "Collecting ntlm-auth>=1.0.2\n",
            "  Downloading https://files.pythonhosted.org/packages/ff/84/97c550164b54942b0e908c31ef09d9469f3ba4cd7332a671e2125732f63b/ntlm_auth-1.5.0-py2.py3-none-any.whl\n",
            "Collecting cryptography>=1.3\n",
            "\u001b[?25l  Downloading https://files.pythonhosted.org/packages/f8/1f/acde6ff69864c5e78b56488e3afd93c1ccc8c2651186e2a5f93d93f64859/cryptography-3.4.6-cp36-abi3-manylinux2014_x86_64.whl (3.2MB)\n",
            "\u001b[K     |████████████████████████████████| 3.2MB 43.5MB/s \n",
            "\u001b[?25hRequirement already satisfied, skipping upgrade: joblib>=0.11 in /usr/local/lib/python3.7/dist-packages (from scikit-learn>=0.17->qiskit-ignis==0.5.2->qiskit) (1.0.1)\n",
            "Requirement already satisfied, skipping upgrade: multitasking>=0.0.7 in /usr/local/lib/python3.7/dist-packages (from yfinance->qiskit-aqua==0.8.2->qiskit) (0.0.9)\n",
            "Collecting lxml>=4.5.1\n",
            "\u001b[?25l  Downloading https://files.pythonhosted.org/packages/d2/88/b25778f17e5320c1c58f8c5060fb5b037288e162bd7554c30799e9ea90db/lxml-4.6.2-cp37-cp37m-manylinux1_x86_64.whl (5.5MB)\n",
            "\u001b[K     |████████████████████████████████| 5.5MB 44.8MB/s \n",
            "\u001b[?25hCollecting inflection>=0.3.1\n",
            "  Downloading https://files.pythonhosted.org/packages/59/91/aa6bde563e0085a02a435aa99b49ef75b0a4b062635e606dab23ce18d720/inflection-0.5.1-py2.py3-none-any.whl\n",
            "Requirement already satisfied, skipping upgrade: more-itertools in /usr/local/lib/python3.7/dist-packages (from quandl->qiskit-aqua==0.8.2->qiskit) (8.7.0)\n",
            "Requirement already satisfied, skipping upgrade: pytz>=2017.2 in /usr/local/lib/python3.7/dist-packages (from pandas->qiskit-aqua==0.8.2->qiskit) (2018.9)\n",
            "Requirement already satisfied, skipping upgrade: cffi>=1.12 in /usr/local/lib/python3.7/dist-packages (from cryptography>=1.3->requests-ntlm>=1.1.0->qiskit-ibmq-provider==0.12.1->qiskit) (1.14.5)\n",
            "Requirement already satisfied, skipping upgrade: pycparser in /usr/local/lib/python3.7/dist-packages (from cffi>=1.12->cryptography>=1.3->requests-ntlm>=1.1.0->qiskit-ibmq-provider==0.12.1->qiskit) (2.20)\n",
            "Building wheels for collected packages: qiskit, python-constraint, yfinance, dlx, docplex\n",
            "  Building wheel for qiskit (setup.py) ... \u001b[?25l\u001b[?25hdone\n",
            "  Created wheel for qiskit: filename=qiskit-0.24.0-cp37-none-any.whl size=2918 sha256=79e764bc9c5f93d1f4146f76bb1c0c5f3481273fccfd4dce6456af405edcdf6c\n",
            "  Stored in directory: /root/.cache/pip/wheels/22/fe/0a/26b7a409d1a9c3698b0319c7d009a97bffaae392d755158dca\n",
            "  Building wheel for python-constraint (setup.py) ... \u001b[?25l\u001b[?25hdone\n",
            "  Created wheel for python-constraint: filename=python_constraint-1.4.0-py2.py3-none-any.whl size=24079 sha256=b4f9093988faca5813a278f60c1bf074a58f336ccd1e8e2f1eb04fec101c3f20\n",
            "  Stored in directory: /root/.cache/pip/wheels/34/31/15/7b070b25d0a549d20ce2e9fe6d727471c2c61ef904720fd40c\n",
            "  Building wheel for yfinance (setup.py) ... \u001b[?25l\u001b[?25hdone\n",
            "  Created wheel for yfinance: filename=yfinance-0.1.55-py2.py3-none-any.whl size=22616 sha256=44d860bd9515b112558ea1a1dca552ac09eead7964216318915db197c88f628e\n",
            "  Stored in directory: /root/.cache/pip/wheels/04/98/cc/2702a4242d60bdc14f48b4557c427ded1fe92aedf257d4565c\n",
            "  Building wheel for dlx (setup.py) ... \u001b[?25l\u001b[?25hdone\n",
            "  Created wheel for dlx: filename=dlx-1.0.4-cp37-none-any.whl size=5712 sha256=56694d8de3d15e0ec11a9252fff880b8be23ea3d7e24552c8cbd242ab8508f5e\n",
            "  Stored in directory: /root/.cache/pip/wheels/bb/ba/15/fdd0deb104df3254912998150ba9245668db06b00af5912d1a\n",
            "  Building wheel for docplex (setup.py) ... \u001b[?25l\u001b[?25hdone\n",
            "  Created wheel for docplex: filename=docplex-2.15.194-cp37-none-any.whl size=645116 sha256=942e88674c66673afff8454c8605b4d2e2951f83bd203eb480ad0159bdf0dc1b\n",
            "  Stored in directory: /root/.cache/pip/wheels/ce/fa/5d/8f4d5fed1b8edb72e453cb2ac6fb75c6776b49d7174eb70457\n",
            "Successfully built qiskit python-constraint yfinance dlx docplex\n",
            "Installing collected packages: python-constraint, ply, retworkx, fastjsonschema, qiskit-terra, pybind11, qiskit-aer, websockets, ntlm-auth, cryptography, requests-ntlm, qiskit-ibmq-provider, qiskit-ignis, lxml, yfinance, inflection, quandl, dlx, docplex, qiskit-aqua, qiskit\n",
            "  Found existing installation: lxml 4.2.6\n",
            "    Uninstalling lxml-4.2.6:\n",
            "      Successfully uninstalled lxml-4.2.6\n",
            "Successfully installed cryptography-3.4.6 dlx-1.0.4 docplex-2.15.194 fastjsonschema-2.15.0 inflection-0.5.1 lxml-4.6.2 ntlm-auth-1.5.0 ply-3.11 pybind11-2.6.2 python-constraint-1.4.0 qiskit-0.24.0 qiskit-aer-0.7.6 qiskit-aqua-0.8.2 qiskit-ibmq-provider-0.12.1 qiskit-ignis-0.5.2 qiskit-terra-0.16.4 quandl-3.6.1 requests-ntlm-1.1.0 retworkx-0.8.0 websockets-8.1 yfinance-0.1.55\n",
            "Collecting pylatexenc\n",
            "\u001b[?25l  Downloading https://files.pythonhosted.org/packages/ee/bd/aab29298c50e36ecabb94caaebdadce78ef609b3b185456413f866c7abd5/pylatexenc-2.9.tar.gz (159kB)\n",
            "\u001b[K     |████████████████████████████████| 163kB 8.9MB/s \n",
            "\u001b[?25hBuilding wheels for collected packages: pylatexenc\n",
            "  Building wheel for pylatexenc (setup.py) ... \u001b[?25l\u001b[?25hdone\n",
            "  Created wheel for pylatexenc: filename=pylatexenc-2.9-cp37-none-any.whl size=131522 sha256=c01b4a21d13afe20de4fab2460451a8a49959a0a32d94063135a1bb18e3a4297\n",
            "  Stored in directory: /root/.cache/pip/wheels/5f/86/11/64616b16465470fd7a5396909953c0e83b3137159b78cc0352\n",
            "Successfully built pylatexenc\n",
            "Installing collected packages: pylatexenc\n",
            "Successfully installed pylatexenc-2.9\n"
          ],
          "name": "stdout"
        }
      ]
    },
    {
      "cell_type": "markdown",
      "metadata": {
        "id": "SKSdb2m2CGUy"
      },
      "source": [
        "Load the following libraries. "
      ]
    },
    {
      "cell_type": "code",
      "metadata": {
        "id": "KFXPNOEcRspc"
      },
      "source": [
        "import numpy as np\n",
        "import networkx as nx  # tool to handle general Graphs \n",
        "import matplotlib.pyplot as plt \n",
        "from matplotlib import cm\n",
        "from matplotlib.ticker import LinearLocator, FormatStrFormatter\n",
        "\n",
        "from qiskit import Aer, IBMQ\n",
        "from qiskit import QuantumRegister, ClassicalRegister, QuantumCircuit, transpile, assemble\n",
        "from qiskit.providers.ibmq import least_busy\n",
        "from qiskit.tools.monitor import job_monitor\n",
        "from qiskit.visualization import plot_histogram\n"
      ],
      "execution_count": 4,
      "outputs": []
    },
    {
      "cell_type": "markdown",
      "metadata": {
        "id": "NJ-lhVLjCQsD"
      },
      "source": [
        "Funciton that creates random graphs: *random_graph* \\\\\n",
        "    **n_nodes** --> nunumber of nodes \\\\\n",
        "    **n_edges** --> number of edges \\\\\n",
        "    **bool_weghts** --> \n",
        "    True = random weights and False = unit weights"
      ]
    },
    {
      "cell_type": "code",
      "metadata": {
        "id": "emBtpn5mClYz"
      },
      "source": [
        "def clean_edges(n_nodes, n_edges):\n",
        "    edges = np.random.randint(0,n_nodes,size=(n_edges,2)) \n",
        "#     delete duplicated edges\n",
        "    unique_edges = np.unique(edges, axis=0)\n",
        "#     delete edges that connect same to node\n",
        "    diff = np.diff(unique_edges,axis=1) \n",
        "    i = np.where(np.abs(diff) > 0)[0]\n",
        "#     final list of edfes\n",
        "    edges = unique_edges[i,:]    \n",
        "    return edges\n",
        "\n",
        "def random_graph(n_nodes, n_edges,bool_weights = True):\n",
        "    V = np.arange(0,n_nodes,1) # verticies\n",
        "    edges = clean_edges(n_nodes, n_edges)# edges\n",
        "    \n",
        "    if bool_weights:\n",
        "        w = np.random.random(edges.shape[0]) # randomg weigths \n",
        "    else:\n",
        "        w = np.ones(edges.shape[0]) # uniform weigths \n",
        "        \n",
        "    G_array = np.column_stack((edges,w)) # edges and weights\n",
        "    E = tuple(tuple(g.tolist()) for g in G_array )    \n",
        "    return E,V"
      ],
      "execution_count": 5,
      "outputs": []
    },
    {
      "cell_type": "markdown",
      "metadata": {
        "id": "jvAvuUlaEjZn"
      },
      "source": [
        "Create a random graph"
      ]
    },
    {
      "cell_type": "code",
      "metadata": {
        "colab": {
          "base_uri": "https://localhost:8080/"
        },
        "id": "tp9AnJoqErEd",
        "outputId": "38926ba6-d8ae-4d08-ee17-bf6fca088eaa"
      },
      "source": [
        "# numbre of nodes\n",
        "n = 5 \n",
        "# create a random graph\n",
        "E,V = random_graph(n, 2*n,False)\n",
        "print('Graph')\n",
        "for e in E:\n",
        "  print(e)\n",
        "print(V)"
      ],
      "execution_count": 6,
      "outputs": [
        {
          "output_type": "stream",
          "text": [
            "Graph\n",
            "(0.0, 1.0, 1.0)\n",
            "(0.0, 3.0, 1.0)\n",
            "(2.0, 4.0, 1.0)\n",
            "(3.0, 1.0, 1.0)\n",
            "(3.0, 4.0, 1.0)\n",
            "[0 1 2 3 4]\n"
          ],
          "name": "stdout"
        }
      ]
    },
    {
      "cell_type": "markdown",
      "metadata": {
        "id": "sNKJd_zPFV7V"
      },
      "source": [
        "Let's plot the above graph"
      ]
    },
    {
      "cell_type": "code",
      "metadata": {
        "colab": {
          "base_uri": "https://localhost:8080/",
          "height": 248
        },
        "id": "m_tPwWbBFVTb",
        "outputId": "602c6260-8d12-4c88-a111-f382af18239d"
      },
      "source": [
        "  G = nx.Graph()\n",
        "  G.add_nodes_from(V)\n",
        "  G.add_weighted_edges_from(E)\n",
        "\n",
        "  colors = ['r' for node in G.nodes()]\n",
        "  default_axes = plt.axes(frameon=True)\n",
        "  pos = nx.spring_layout(G)\n",
        "\n",
        "    # plt.figure()\n",
        "  nx.draw_networkx(G, node_color=colors, node_size=600, alpha=1, ax=default_axes, pos=pos)"
      ],
      "execution_count": 7,
      "outputs": [
        {
          "output_type": "display_data",
          "data": {
            "image/png": "[encoded data removed]",
            "text/plain": [
              "<Figure size 432x288 with 1 Axes>"
            ]
          },
          "metadata": {
            "tags": []
          }
        }
      ]
    },
    {
      "cell_type": "markdown",
      "metadata": {
        "id": "7zNtyrcWGeBO"
      },
      "source": [
        "The **goal** of this tutorial is to use the Quantum Approximate Optimization Algorithm (**QAOA**) algorithm to solve the **MaxCut** for a graph. \n",
        "\n",
        "## Coast function\n",
        "As any other optimiztion algorithm, QAOA aims to maximze a cost function, \n",
        "\\begin{eqnarray}\n",
        "\\mathbf{x}^* = \\arg\\max_{\\mathbf{x}} \\;\\; C(\\mathbf{x}).\n",
        "\\end{eqnarray}\n",
        "\n",
        "For the MaxCut problem, $C(\\cdot)$ quantifies when two nodes should belong to the same category or not. For the latter, if the edge between a pair of nodes disgree then a penalization should be included. \n",
        "A possible expression of such cost function is,\n",
        "\\begin{eqnarray}\n",
        "C(\\mathbf{x}) = \\sum_{\\langle i,j\\rangle} C_{\\langle i,j\\rangle}  = \\sum_{\\langle i,j\\rangle} \\frac{1}{2}\\big( 1 - g(i)g(j) \\big),\n",
        "\\end{eqnarray}\n",
        "where $g(\\cdot)$ is a function that inquires if node $i$ belongs or not to a category. The sum in $C(\\cdot)$ is over all edges.\n",
        "\n",
        "We can translate the following problem into quantum computing by taking the advantage to represent each edge as a qubit, $| z \\rangle =| 0 \\rangle $ or $| z \\rangle =| 1 \\rangle $.\n",
        "The quantum analog of $C$ in the compuatational basis $| z \\rangle$ is,\n",
        "\\begin{eqnarray}\n",
        "C| z \\rangle &=& \\sum_{\\langle i,j\\rangle}  C_{\\langle i,j\\rangle}(z)| z \\rangle = C(z)| z \\rangle\\\\\n",
        "C_{\\langle i,j\\rangle}(z) &=& \\frac{1}{2}(I - g_i \\otimes g_j)| z \\rangle,\n",
        "\\end{eqnarray}\n",
        "where $g_i \\otimes g_j| z \\rangle = g_i | z_i\\rangle \\otimes g_j| z_j \\rangle$. \n",
        "If $| z_i\\rangle = | z_j\\rangle $ then $g_i \\otimes g_j = - I$. Else, $| z_i\\rangle \\neq | z_j\\rangle $ then $g_i \\otimes g_j = I$. These conditions assure that $C$ will be maximized. \n",
        "A common chose to represent $g_i \\otimes g_j$ is by using the Puali Z operatros, $\\sigma^Z |0\\rangle  = 1$ and $\\sigma^Z |1\\rangle  = -1$.\n",
        "By taking all this into account we can rewrite $C_{\\langle i,j\\rangle}$ as,\n",
        "\\begin{eqnarray}\n",
        "C_{\\langle i,j\\rangle}(z) &=& \\frac{1}{2}(I - \\sigma^{Z}_i \\otimes \\sigma^{Z}_j| z \\rangle.\n",
        "\\end{eqnarray}\n"
      ]
    },
    {
      "cell_type": "code",
      "metadata": {
        "id": "AL-peldQW573"
      },
      "source": [
        "def cost_function_C(x,G):\n",
        "    E = G.edges()\n",
        "    if( len(x) != len(G.nodes())):\n",
        "        return np.nan\n",
        "    C = 0;\n",
        "    for index in E:\n",
        "        e1 = int(index[0])\n",
        "        e2 = int(index[1])\n",
        "        w = G[e1][e2]['weight']\n",
        "        C = C + w*x[e1]*(1-x[e2]) + w*x[e2]*(1-x[e1])      \n",
        "    return C"
      ],
      "execution_count": 8,
      "outputs": []
    },
    {
      "cell_type": "markdown",
      "metadata": {
        "id": "0Fda5aegXZp5"
      },
      "source": [
        "## Introduction to QAOA\n",
        "\n",
        "\n",
        "The matrix representation of $C$ is diagonal in the compuational basis $z_\\rangle$, meaning $C| z\\rangle = f(z)| z\\rangle$. One of the diagonal elements, $| z'\\rangle$, is the largest element of $C$, and we wish to find it. \n",
        "\n",
        "To solve for $| z'\\rangle$, we constrcut an ansazt state $| \\phi \\rangle$, defined as, \n",
        "\\begin{eqnarray}\n",
        "| \\phi \\rangle = \\sum_z a_z | z\\rangle,\n",
        "\\end{eqnarray}\n",
        "where $a_z$ are complex weiths that ensures $| \\phi \\rangle$ is properly normlized; $\\langle \\phi | \\phi \\rangle = \\sum_z |a_z|^2 = 1$.\n",
        "\n",
        "Under this asumption, $| \\phi \\rangle$ and $| z \\rangle$ produce the largest expectation value of $C$,\n",
        "\\begin{eqnarray}\n",
        "\\langle z' | C | z' \\rangle \\approx \\langle \\phi | C | \\phi \\rangle = \\sum_z f(z) |a_z|^2.\n",
        "\\end{eqnarray}\n",
        "From the above equation we can observe that to maximize $C$ we must optimizer the coefficients $a_z$. \n",
        "\n",
        "## Unitary operations in the QAOA protocol\n",
        "To construct the state $|\\phi \\rangle$, we utilze two types of rotation unitary uperators, $U(C,\\gamma) = e^{-i\\gamma C}$ and $U(B,\\beta)= e^{-i\\beta B}$.\n",
        "The first step in the QAOA protocol is to linearly construct a state that is in a uniform superposition to all $|z\\rangle$. The most common way to achieve this is by using the Hamadard operation,\n",
        "\\begin{eqnarray}\n",
        "| \\phi_0 \\rangle = H^{\\otimes n}| 0 \\rangle^{\\otimes n} \n",
        "\\end{eqnarray}\n",
        "where for a two qubit system the above expression is,\n",
        "\\begin{eqnarray}\n",
        "| \\phi_0 \\rangle &=& (H_1\\otimes I )| 0 \\rangle_1\\otimes| 0 \\rangle_2 + (I\\otimes H_1 )| 0 \\rangle_1\\otimes| 0 \\rangle_2\\\\\n",
        " &=& \\frac{1}{\\sqrt{2}}\\big( | 0 \\rangle_1 + | 1 \\rangle_1 \\big)\\otimes| 0 \\rangle_2 + \\frac{1}{\\sqrt{2}} | 0 \\rangle_1 \\otimes\\big( | 0 \\rangle_2 + | 1 \\rangle_2 \\big).\n",
        "\\end{eqnarray}\n",
        "The construction protocol for state $| \\phi_0 \\rangle$, is a standard procedure in quantum comuting. \n",
        "\n",
        "The next step in the QAOA protocol is to rotate $| \\phi_0 \\rangle$ using $U(C,\\gamma)$ and $U(B,\\beta)$, producing the satate $| \\psi_{p}(\\gamma,\\beta) \\rangle$.\n",
        "\\begin{eqnarray}\n",
        "| \\psi_{p=1}(\\gamma,\\beta) \\rangle =  U(\\beta,B)U(\\gamma,C)| \\phi_0 \\rangle = e^{-i\\beta B}\\; e^{-i\\gamma C} |\\phi_0 \\rangle.\n",
        "\\end{eqnarray}\n",
        "In the QAOA algorithm we can aplly rotate the quantum state $P$-times using the same $U(C,\\gamma)$ and $U(B,\\beta)$ matrices with different values of $\\gamma$ and $\\beta$, leading to \n",
        "\\begin{eqnarray}\n",
        "| \\psi_{P}(\\boldsymbol{\\gamma},\\boldsymbol{\\beta}) \\rangle =  U(\\beta_P,B)U(\\gamma_P,C)\\cdots U(\\beta_1,B)U(\\gamma_1,C)| \\phi_0 \\rangle,\n",
        "\\end{eqnarray}\n",
        "where the $\\boldsymbol{\\gamma}$ and $\\boldsymbol{\\beta}$, in the lingo of machine-learning, are the hyper-parameters of the quantum circuit. \n",
        " $\\boldsymbol{\\gamma}$ ($\\boldsymbol{\\beta}$) is the collection of all different $\\gamma$s ($\\beta$s); $\\boldsymbol{\\gamma}= [\\gamma_1, \\cdots,\\gamma_P]$ and $\\boldsymbol{\\beta}= [\\beta_1, \\cdots,\\beta_P]$.\n",
        "\n",
        "For a sinlge rotation we can define a function like,\n"
      ]
    },
    {
      "cell_type": "code",
      "metadata": {
        "id": "yJCqSULpdg7X"
      },
      "source": [
        "def cycle_p(q_circuit, E, V, gamma,beta):\n",
        "  for edge in E:\n",
        "    k = int(edge[0])\n",
        "    l = int(edge[1])\n",
        "    # U(C,gamma)\n",
        "    q_circuit.cp(-2*gamma, k, l)\n",
        "    q_circuit.p(gamma, k)\n",
        "    q_circuit.p(gamma, l)\n",
        "    # U(B,beta)\n",
        "    q_circuit.barrier()\n",
        "    q_circuit.rx(2*beta, range(len(V)))\n",
        "  return q_circuit "
      ],
      "execution_count": 9,
      "outputs": []
    },
    {
      "cell_type": "markdown",
      "metadata": {
        "id": "YDpqSgTPd1Yr"
      },
      "source": [
        "## $U(C,\\gamma)$ and $U(B,\\beta)$\n",
        "\n",
        "Here we breifly explain both rotation matrices. \n",
        "\\begin{eqnarray}\n",
        "U(B,\\beta) = e^{-i\\beta B},\n",
        "\\end{eqnarray}\n",
        "where $B$ is defined as,\n",
        "\\begin{eqnarray}\n",
        "B = \\sum_i \\sigma^{X}_i.\n",
        "\\end{eqnarray}\n",
        "$\\sigma^{X}_i$ is the Pauli X matrix apply to the $i$-qubit.\n",
        "\\begin{eqnarray}\n",
        "U(B,\\beta) = e^{-i\\beta B} = e^{-i\\beta\\sum_i \\sigma^{X}_i} = \\prod_i e^{-i\\beta \\sigma^{X}_i} =  \\prod_i U(B_i,\\beta).\n",
        "\\end{eqnarray}\n",
        "$U(B_i,\\beta)$ could be understood as a rotation operation $R_{X}$ with an angle $2 \\beta$. (This is why we did, **q_circuit.rx(2*beta, range(len(V)))**).\n",
        "\n",
        "\n",
        "For $U(C,\\gamma)$ things are a little more complicated since, $C$ must be evaluated at each different $| z \\rangle$.\n",
        "\\begin{eqnarray}\n",
        "U(C,\\gamma) = e^{-i\\gamma C} = e^{i\\gamma\\sum_{\\langle ij \\rangle} C_{\\langle ij \\rangle}} = \\prod_{\\langle ij \\rangle}e^{i\\gamma C_{\\langle ij \\rangle}} =\\prod_{\\langle ij \\rangle}  U(C_{\\langle ij \\rangle},\\gamma),\n",
        "\\end{eqnarray}\n",
        "where \n",
        "\\begin{eqnarray}\n",
        "U(C_{\\langle ij \\rangle},\\gamma) = e^{-i \\gamma \\frac{1}{2} \\big (I - \\sigma^Z_{i} \\otimes \\sigma^Z_{j} \\big)} = e^{-i \\gamma \\frac{1}{2} I} e^{i \\gamma \\frac{1}{2} \\big (\\sigma^Z_{i} \\otimes \\sigma^Z_{j} \\big)}\n",
        "\\end{eqnarray}\n",
        "The first term, $e^{-i \\gamma \\frac{1}{2} I}$, is a phase factor that could be program by a Rotation in the Z axis, $R_Z(\\gamma/2)$ (code: **q_circuit.cp(-2*gamma, k, l)**).\n",
        "The last term, we evaluate the terms $\\sigma^Z_{i} \\otimes \\sigma^Z_{j}$ (code:  **q_circuit.p(gamma, k)** and **q_circuit.p(gamma, l)**)."
      ]
    },
    {
      "cell_type": "markdown",
      "metadata": {
        "id": "unfBXB3MkGcx"
      },
      "source": [
        "## Coast function\n",
        "\n",
        "From the expressions above we recall that the coast funciton $C$ is,\n",
        "\\begin{eqnarray}\n",
        "C = \\sum_{\\langle i,j\\rangle} C_{\\langle i,j\\rangle}(z) = \\sum_{\\langle i,j\\rangle} \\frac{1}{2}w_{ij}(I - \\sigma^{Z}_i \\otimes \\sigma^{Z}_j| z \\rangle,\n",
        "\\end{eqnarray}\n",
        "where $w_{ij}$ are the weights of each edge in the graph.\n",
        "\n",
        "The expectation value of C, $\\langle C \\rangle$, is the quantity we will be obtained from a quantum computer and the one we desire to maximize. \n",
        "For a $| \\psi_{P}(\\boldsymbol{\\gamma},\\boldsymbol{\\beta}) \\rangle$, $\\langle C \\rangle$ is defined as,\n",
        "\\begin{eqnarray}\n",
        "\\langle C \\rangle = \\langle \\psi_{P}(\\boldsymbol{\\gamma},\\boldsymbol{\\beta})| \\;C\\;| \\psi_{P}(\\boldsymbol{\\gamma},\\boldsymbol{\\beta}) \\rangle\n",
        "\\end{eqnarray}"
      ]
    },
    {
      "cell_type": "code",
      "metadata": {
        "id": "RaG7pmaSe8-Y"
      },
      "source": [
        "def cost_function_C(x,G):\n",
        "    E = G.edges()\n",
        "    if( len(x) != len(G.nodes())):\n",
        "        return np.nan\n",
        "        \n",
        "    C = 0;\n",
        "    for index in E:\n",
        "        e1 = int(index[0])\n",
        "        e2 = int(index[1])\n",
        "        \n",
        "        w = G[e1][e2]['weight']\n",
        "        C = C + w*x[e1]*(1-x[e2]) + w*x[e2]*(1-x[e1])\n",
        "    return C"
      ],
      "execution_count": 10,
      "outputs": []
    },
    {
      "cell_type": "markdown",
      "metadata": {
        "id": "hBGvJRfzmct6"
      },
      "source": [
        "# Time to do some quantum computing simulations\n",
        "\n",
        "1. Initialize a quantum circuit\n",
        "2. Conscruct $| \\psi_0 \\rangle$"
      ]
    },
    {
      "cell_type": "code",
      "metadata": {
        "colab": {
          "base_uri": "https://localhost:8080/"
        },
        "id": "q3nueFcBmn6g",
        "outputId": "b18b54bc-3f7c-40f7-83dd-7dd120280e05"
      },
      "source": [
        "QAOA = QuantumCircuit(len(V), len(V))\n",
        "QAOA.h(range(len(V)))\n",
        "QAOA.barrier()"
      ],
      "execution_count": 11,
      "outputs": [
        {
          "output_type": "execute_result",
          "data": {
            "text/plain": [
              "<qiskit.circuit.instructionset.InstructionSet at 0x7f3d62242c10>"
            ]
          },
          "metadata": {
            "tags": []
          },
          "execution_count": 11
        }
      ]
    },
    {
      "cell_type": "markdown",
      "metadata": {
        "id": "L39kJTNomqNr"
      },
      "source": [
        "3. Define the hyper-parameters of the QAOA protocol; $\\boldsymbol{Theta} =[\\boldsymbol{\\gamma},\\boldsymbol{\\beta},P]$"
      ]
    },
    {
      "cell_type": "code",
      "metadata": {
        "id": "MCGVRijKnHZe"
      },
      "source": [
        "  # P = 2 (but we do not need to explicitly define it since is defined by the length of gammas_ and betas_)\n",
        "  gammas_ = np.array([1.0,2.])\n",
        "  betas_ = np.array([2.0,4.])\n"
      ],
      "execution_count": 12,
      "outputs": []
    },
    {
      "cell_type": "markdown",
      "metadata": {
        "id": "kn4UkxoQnZmr"
      },
      "source": [
        "4. Construct $| \\psi_{P}(\\boldsymbol{\\gamma},\\boldsymbol{\\beta}) \\rangle$"
      ]
    },
    {
      "cell_type": "code",
      "metadata": {
        "id": "LrN042fVnv5c"
      },
      "source": [
        "for g,b  in zip(gammas_,betas_):\n",
        "  QAOA = cycle_p(QAOA, E, V, g,b)\n",
        "  QAOA.barrier()"
      ],
      "execution_count": 13,
      "outputs": []
    },
    {
      "cell_type": "markdown",
      "metadata": {
        "id": "d-ekMO6NoJEY"
      },
      "source": [
        "5. Measure $\\langle C \\rangle$"
      ]
    },
    {
      "cell_type": "code",
      "metadata": {
        "colab": {
          "base_uri": "https://localhost:8080/"
        },
        "id": "NSGdl53JoPZy",
        "outputId": "b193e16b-e887-4f17-e2e6-ab4ff4f98ec1"
      },
      "source": [
        "QAOA.measure(range(len(V)),range(len(V)))"
      ],
      "execution_count": 14,
      "outputs": [
        {
          "output_type": "execute_result",
          "data": {
            "text/plain": [
              "<qiskit.circuit.instructionset.InstructionSet at 0x7f3d622ce750>"
            ]
          },
          "metadata": {
            "tags": []
          },
          "execution_count": 14
        }
      ]
    },
    {
      "cell_type": "markdown",
      "metadata": {
        "id": "u8K4JwrEoVUt"
      },
      "source": [
        "6. Display the quantum cirtcuit"
      ]
    },
    {
      "cell_type": "code",
      "metadata": {
        "colab": {
          "base_uri": "https://localhost:8080/",
          "height": 640
        },
        "id": "yb6Mgx6GoY_I",
        "outputId": "7524029a-5c08-45a7-9571-8741b75e18f2"
      },
      "source": [
        "QAOA.draw(output='mpl')"
      ],
      "execution_count": 15,
      "outputs": [
        {
          "output_type": "execute_result",
          "data": {
            "image/png": "[encoded data removed]",
            "text/plain": [
              "<Figure size 1591.6x806.68 with 1 Axes>"
            ]
          },
          "metadata": {
            "tags": []
          },
          "execution_count": 15
        }
      ]
    }
  ]
}